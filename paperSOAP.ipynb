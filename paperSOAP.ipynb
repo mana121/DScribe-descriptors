{
 "cells": [
  {
   "cell_type": "code",
   "execution_count": 1,
   "id": "70059854",
   "metadata": {},
   "outputs": [],
   "source": [
    "from ase.build import molecule\n",
    "from dscribe.descriptors import SOAP"
   ]
  },
  {
   "cell_type": "code",
   "execution_count": 8,
   "id": "61608ee4",
   "metadata": {},
   "outputs": [
    {
     "data": {
      "text/plain": [
       "Atoms(symbols='OH2', pbc=False)"
      ]
     },
     "execution_count": 8,
     "metadata": {},
     "output_type": "execute_result"
    }
   ],
   "source": [
    "#Define the atomic system\n",
    "system=molecule('H2O')\n",
    "system"
   ]
  },
  {
   "cell_type": "code",
   "execution_count": 13,
   "id": "17060309",
   "metadata": {},
   "outputs": [],
   "source": [
    "#Setup the descriptor\n",
    "soap=SOAP(\n",
    "        species=['H','O'],\n",
    "        rbf='gto',\n",
    "        r_cut=3,\n",
    "        n_max=10,\n",
    "        l_max=8,\n",
    "        sparse=True\n",
    ")"
   ]
  },
  {
   "cell_type": "code",
   "execution_count": 14,
   "id": "de97be4c",
   "metadata": {},
   "outputs": [
    {
     "data": {
      "text/plain": [
       "1890"
      ]
     },
     "execution_count": 14,
     "metadata": {},
     "output_type": "execute_result"
    }
   ],
   "source": [
    "#Query the number of features\n",
    "n_features=soap.get_number_of_features()\n",
    "n_features"
   ]
  },
  {
   "cell_type": "code",
   "execution_count": 15,
   "id": "cc2aeac5",
   "metadata": {},
   "outputs": [
    {
     "data": {
      "text/html": [
       "<table><tbody><tr><th style=\"text-align: left\">Format</th><td style=\"text-align: left\">coo</td></tr><tr><th style=\"text-align: left\">Data Type</th><td style=\"text-align: left\">float64</td></tr><tr><th style=\"text-align: left\">Shape</th><td style=\"text-align: left\">(3, 1890)</td></tr><tr><th style=\"text-align: left\">nnz</th><td style=\"text-align: left\">4430</td></tr><tr><th style=\"text-align: left\">Density</th><td style=\"text-align: left\">0.781305114638448</td></tr><tr><th style=\"text-align: left\">Read-only</th><td style=\"text-align: left\">True</td></tr><tr><th style=\"text-align: left\">Size</th><td style=\"text-align: left\">103.8K</td></tr><tr><th style=\"text-align: left\">Storage ratio</th><td style=\"text-align: left\">2.3</td></tr></tbody></table>"
      ],
      "text/plain": [
       "<COO: shape=(3, 1890), dtype=float64, nnz=4430, fill_value=0.0>"
      ]
     },
     "execution_count": 15,
     "metadata": {},
     "output_type": "execute_result"
    }
   ],
   "source": [
    "#Get output as a dense or sparse array\n",
    "output=soap.create(system)\n",
    "output"
   ]
  },
  {
   "cell_type": "code",
   "execution_count": 16,
   "id": "4dcea621",
   "metadata": {},
   "outputs": [],
   "source": [
    "#Get output for multiple systems\n",
    "systems=[molecule('H2'),molecule('O2')]\n",
    "outputs=soap.create(systems,n_jobs=2)"
   ]
  },
  {
   "cell_type": "code",
   "execution_count": 17,
   "id": "0cee282c",
   "metadata": {},
   "outputs": [
    {
     "data": {
      "text/plain": [
       "[Atoms(symbols='H2', pbc=False),\n",
       " Atoms(symbols='O2', pbc=False, initial_magmoms=...)]"
      ]
     },
     "execution_count": 17,
     "metadata": {},
     "output_type": "execute_result"
    }
   ],
   "source": [
    "systems"
   ]
  },
  {
   "cell_type": "code",
   "execution_count": 18,
   "id": "831e66c7",
   "metadata": {},
   "outputs": [
    {
     "data": {
      "text/html": [
       "<table><tbody><tr><th style=\"text-align: left\">Format</th><td style=\"text-align: left\">coo</td></tr><tr><th style=\"text-align: left\">Data Type</th><td style=\"text-align: left\">float64</td></tr><tr><th style=\"text-align: left\">Shape</th><td style=\"text-align: left\">(2, 2, 1890)</td></tr><tr><th style=\"text-align: left\">nnz</th><td style=\"text-align: left\">1980</td></tr><tr><th style=\"text-align: left\">Density</th><td style=\"text-align: left\">0.2619047619047619</td></tr><tr><th style=\"text-align: left\">Read-only</th><td style=\"text-align: left\">True</td></tr><tr><th style=\"text-align: left\">Size</th><td style=\"text-align: left\">61.9K</td></tr><tr><th style=\"text-align: left\">Storage ratio</th><td style=\"text-align: left\">1.0</td></tr></tbody></table>"
      ],
      "text/plain": [
       "<COO: shape=(2, 2, 1890), dtype=float64, nnz=1980, fill_value=0.0>"
      ]
     },
     "execution_count": 18,
     "metadata": {},
     "output_type": "execute_result"
    }
   ],
   "source": [
    "outputs"
   ]
  },
  {
   "cell_type": "code",
   "execution_count": null,
   "id": "18ccec7d",
   "metadata": {},
   "outputs": [],
   "source": []
  }
 ],
 "metadata": {
  "kernelspec": {
   "display_name": "Python 3 (ipykernel)",
   "language": "python",
   "name": "python3"
  },
  "language_info": {
   "codemirror_mode": {
    "name": "ipython",
    "version": 3
   },
   "file_extension": ".py",
   "mimetype": "text/x-python",
   "name": "python",
   "nbconvert_exporter": "python",
   "pygments_lexer": "ipython3",
   "version": "3.11.3"
  }
 },
 "nbformat": 4,
 "nbformat_minor": 5
}
