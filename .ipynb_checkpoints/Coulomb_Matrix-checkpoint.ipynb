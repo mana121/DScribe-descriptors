{
 "cells": [
  {
   "cell_type": "code",
   "execution_count": 1,
   "id": "5308f946",
   "metadata": {},
   "outputs": [],
   "source": [
    "from dscribe.descriptors import CoulombMatrix\n",
    "from ase.build import molecule\n",
    "from ase import Atoms\n",
    "\n",
    "# Setting up the CM descriptor\n",
    "cm = CoulombMatrix(n_atoms_max=6)"
   ]
  },
  {
   "cell_type": "code",
   "execution_count": 2,
   "id": "461b424f",
   "metadata": {},
   "outputs": [
    {
     "name": "stdout",
     "output_type": "stream",
     "text": [
      "36\n",
      "[73.51669472 33.73297539  8.24741496  3.96011613  3.808905    3.808905\n",
      " 33.73297539 36.8581052   3.08170819  5.50690929  5.47078813  5.47078813\n",
      "  8.24741496  3.08170819  0.5         0.35443545  0.42555057  0.42555057\n",
      "  3.96011613  5.50690929  0.35443545  0.5         0.56354208  0.56354208\n",
      "  3.808905    5.47078813  0.42555057  0.56354208  0.5         0.56068143\n",
      "  3.808905    5.47078813  0.42555057  0.56354208  0.56068143  0.5       ]\n",
      "(36,)\n"
     ]
    }
   ],
   "source": [
    "# Create CM output for the system\n",
    "methanol_ = molecule(\"CH3OH\")\n",
    "print(cm.get_number_of_features())\n",
    "cm_methanol = cm.create(methanol_)\n",
    "\n",
    "print(cm_methanol)\n",
    "print(cm_methanol.shape)"
   ]
  },
  {
   "cell_type": "code",
   "execution_count": 3,
   "id": "5c93df00",
   "metadata": {},
   "outputs": [
    {
     "name": "stdout",
     "output_type": "stream",
     "text": [
      "['C', 'O', 'H', 'H', 'H', 'H']\n",
      "[[73.51669472 33.73297539  8.24741496  3.96011613  3.808905    3.808905  ]\n",
      " [33.73297539 36.8581052   3.08170819  5.50690929  5.47078813  5.47078813]\n",
      " [ 8.24741496  3.08170819  0.5         0.35443545  0.42555057  0.42555057]\n",
      " [ 3.96011613  5.50690929  0.35443545  0.5         0.56354208  0.56354208]\n",
      " [ 3.808905    5.47078813  0.42555057  0.56354208  0.5         0.56068143]\n",
      " [ 3.808905    5.47078813  0.42555057  0.56354208  0.56068143  0.5       ]]\n",
      "(6, 6)\n"
     ]
    }
   ],
   "source": [
    "print(methanol_.get_chemical_symbols())\n",
    "print(cm.unflatten(cm_methanol))\n",
    "print(cm.unflatten(cm_methanol).shape)"
   ]
  },
  {
   "cell_type": "code",
   "execution_count": 4,
   "id": "1297bf48",
   "metadata": {},
   "outputs": [
    {
     "name": "stdout",
     "output_type": "stream",
     "text": [
      "Process 0: 33.3 %\n",
      "Process 0: 66.7 %\n",
      "Process 0: 100.0 %\n",
      "[[73.51669472  8.25964169  8.25964169  0.          0.          0.\n",
      "   8.25964169  0.5         0.65510279  0.          0.          0.\n",
      "   8.25964169  0.65510279  0.5         0.          0.          0.\n",
      "   0.          0.          0.          0.          0.          0.\n",
      "   0.          0.          0.          0.          0.          0.\n",
      "   0.          0.          0.          0.          0.          0.        ]\n",
      " [73.51669472 28.6194172  46.05755884  0.          0.          0.\n",
      "  28.6194172  73.51669472 46.05755884  0.          0.          0.\n",
      "  46.05755884 46.05755884 53.3587074   0.          0.          0.\n",
      "   0.          0.          0.          0.          0.          0.\n",
      "   0.          0.          0.          0.          0.          0.\n",
      "   0.          0.          0.          0.          0.          0.        ]\n",
      " [73.51669472 27.1495209  40.72428134  0.          0.          0.\n",
      "  27.1495209  73.51669472 40.72428134  0.          0.          0.\n",
      "  40.72428134 40.72428134 36.8581052   0.          0.          0.\n",
      "   0.          0.          0.          0.          0.          0.\n",
      "   0.          0.          0.          0.          0.          0.\n",
      "   0.          0.          0.          0.          0.          0.        ]]\n"
     ]
    }
   ],
   "source": [
    "# Create output for multiple system\n",
    "samples = [molecule(\"H2O\"), molecule(\"NO2\"), molecule(\"CO2\")]\n",
    "coulomb_matrices = cm.create(samples,verbose=True)            # Serial\n",
    "print(coulomb_matrices)"
   ]
  },
  {
   "cell_type": "code",
   "execution_count": 5,
   "id": "5af16b14",
   "metadata": {},
   "outputs": [
    {
     "name": "stdout",
     "output_type": "stream",
     "text": [
      "[[73.51669472  8.25964169  8.25964169  0.          0.          0.\n",
      "   8.25964169  0.5         0.65510279  0.          0.          0.\n",
      "   8.25964169  0.65510279  0.5         0.          0.          0.\n",
      "   0.          0.          0.          0.          0.          0.\n",
      "   0.          0.          0.          0.          0.          0.\n",
      "   0.          0.          0.          0.          0.          0.        ]\n",
      " [73.51669472 28.6194172  46.05755884  0.          0.          0.\n",
      "  28.6194172  73.51669472 46.05755884  0.          0.          0.\n",
      "  46.05755884 46.05755884 53.3587074   0.          0.          0.\n",
      "   0.          0.          0.          0.          0.          0.\n",
      "   0.          0.          0.          0.          0.          0.\n",
      "   0.          0.          0.          0.          0.          0.        ]\n",
      " [73.51669472 27.1495209  40.72428134  0.          0.          0.\n",
      "  27.1495209  73.51669472 40.72428134  0.          0.          0.\n",
      "  40.72428134 40.72428134 36.8581052   0.          0.          0.\n",
      "   0.          0.          0.          0.          0.          0.\n",
      "   0.          0.          0.          0.          0.          0.\n",
      "   0.          0.          0.          0.          0.          0.        ]]\n"
     ]
    }
   ],
   "source": [
    "coulomb_matrices = cm.create(samples, n_jobs=2)  # Parallel\n",
    "print(coulomb_matrices)"
   ]
  },
  {
   "cell_type": "code",
   "execution_count": 6,
   "id": "806e9ccd",
   "metadata": {},
   "outputs": [
    {
     "name": "stdout",
     "output_type": "stream",
     "text": [
      "['C', 'O', 'H', 'H', 'H', 'H']\n",
      "in order of appearance [36.8581052  33.73297539  5.50690929  3.08170819  5.47078813  5.47078813\n",
      " 33.73297539 73.51669472  3.96011613  8.24741496  3.808905    3.808905\n",
      "  5.50690929  3.96011613  0.5         0.35443545  0.56354208  0.56354208\n",
      "  3.08170819  8.24741496  0.35443545  0.5         0.42555057  0.42555057\n",
      "  5.47078813  3.808905    0.56354208  0.42555057  0.5         0.56068143\n",
      "  5.47078813  3.808905    0.56354208  0.42555057  0.56068143  0.5       ]\n"
     ]
    }
   ],
   "source": [
    "# No sorting\n",
    "cm = CoulombMatrix(n_atoms_max=6, permutation='none')\n",
    "\n",
    "methanol_ = molecule(\"CH3OH\")\n",
    "cm_methanol = cm.create(methanol_)\n",
    "\n",
    "print(methanol_.get_chemical_symbols())\n",
    "print(\"in order of appearance\", cm_methanol)\n"
   ]
  },
  {
   "cell_type": "code",
   "execution_count": 7,
   "id": "f3db61d2",
   "metadata": {},
   "outputs": [
    {
     "name": "stdout",
     "output_type": "stream",
     "text": [
      "default: sorted by L2-norm [73.51669472 33.73297539  8.24741496  3.96011613  3.808905    3.808905\n",
      " 33.73297539 36.8581052   3.08170819  5.50690929  5.47078813  5.47078813\n",
      "  8.24741496  3.08170819  0.5         0.35443545  0.42555057  0.42555057\n",
      "  3.96011613  5.50690929  0.35443545  0.5         0.56354208  0.56354208\n",
      "  3.808905    5.47078813  0.42555057  0.56354208  0.5         0.56068143\n",
      "  3.808905    5.47078813  0.42555057  0.56354208  0.56068143  0.5       ]\n"
     ]
    }
   ],
   "source": [
    "# Sort by Euclidean (L2) norm.\n",
    "cm = CoulombMatrix(n_atoms_max=6, permutation='sorted_l2')\n",
    "\n",
    "cm_methanol = cm.create(methanol_)\n",
    "print(\"default: sorted by L2-norm\", cm_methanol)"
   ]
  },
  {
   "cell_type": "code",
   "execution_count": 8,
   "id": "319a50cd",
   "metadata": {},
   "outputs": [
    {
     "name": "stdout",
     "output_type": "stream",
     "text": [
      "randomly sorted [ 0.5         0.56354208  3.96011613  5.50690929  0.35443545  0.56354208\n",
      "  0.56354208  0.5         3.808905    5.47078813  0.42555057  0.56068143\n",
      "  3.96011613  3.808905   73.51669472 33.73297539  8.24741496  3.808905\n",
      "  5.50690929  5.47078813 33.73297539 36.8581052   3.08170819  5.47078813\n",
      "  0.35443545  0.42555057  8.24741496  3.08170819  0.5         0.42555057\n",
      "  0.56354208  0.56068143  3.808905    5.47078813  0.42555057  0.5       ]\n"
     ]
    }
   ],
   "source": [
    "# Random\n",
    "cm = CoulombMatrix(\n",
    "    n_atoms_max=6,\n",
    "    permutation='random',\n",
    "    sigma=70,\n",
    "    seed=None\n",
    ")\n",
    "\n",
    "cm_methanol = cm.create(methanol_)\n",
    "print(\"randomly sorted\", cm_methanol)"
   ]
  },
  {
   "cell_type": "code",
   "execution_count": 9,
   "id": "acf64638",
   "metadata": {},
   "outputs": [
    {
     "name": "stdout",
     "output_type": "stream",
     "text": [
      "eigenvalues [ 9.55802663e+01  1.81984422e+01 -8.84554212e-01 -4.08434021e-01\n",
      " -6.06814298e-02 -5.02389071e-02]\n"
     ]
    }
   ],
   "source": [
    "# Eigenspectrum\n",
    "cm = CoulombMatrix(\n",
    "    n_atoms_max=6,\n",
    "    permutation='eigenspectrum'\n",
    ")\n",
    "\n",
    "cm_methanol = cm.create(methanol_)\n",
    "print(\"eigenvalues\", cm_methanol)"
   ]
  },
  {
   "cell_type": "code",
   "execution_count": 10,
   "id": "b58d3dfb",
   "metadata": {},
   "outputs": [
    {
     "name": "stdout",
     "output_type": "stream",
     "text": [
      "zero-padded [73.51669472 33.73297539  8.24741496  3.96011613  3.808905    3.808905\n",
      "  0.          0.          0.          0.         33.73297539 36.8581052\n",
      "  3.08170819  5.50690929  5.47078813  5.47078813  0.          0.\n",
      "  0.          0.          8.24741496  3.08170819  0.5         0.35443545\n",
      "  0.42555057  0.42555057  0.          0.          0.          0.\n",
      "  3.96011613  5.50690929  0.35443545  0.5         0.56354208  0.56354208\n",
      "  0.          0.          0.          0.          3.808905    5.47078813\n",
      "  0.42555057  0.56354208  0.5         0.56068143  0.          0.\n",
      "  0.          0.          3.808905    5.47078813  0.42555057  0.56354208\n",
      "  0.56068143  0.5         0.          0.          0.          0.\n",
      "  0.          0.          0.          0.          0.          0.\n",
      "  0.          0.          0.          0.          0.          0.\n",
      "  0.          0.          0.          0.          0.          0.\n",
      "  0.          0.          0.          0.          0.          0.\n",
      "  0.          0.          0.          0.          0.          0.\n",
      "  0.          0.          0.          0.          0.          0.\n",
      "  0.          0.          0.          0.        ]\n",
      "(100,)\n",
      "[[73.51669472 33.73297539  8.24741496  3.96011613  3.808905    3.808905\n",
      "   0.          0.          0.          0.        ]\n",
      " [33.73297539 36.8581052   3.08170819  5.50690929  5.47078813  5.47078813\n",
      "   0.          0.          0.          0.        ]\n",
      " [ 8.24741496  3.08170819  0.5         0.35443545  0.42555057  0.42555057\n",
      "   0.          0.          0.          0.        ]\n",
      " [ 3.96011613  5.50690929  0.35443545  0.5         0.56354208  0.56354208\n",
      "   0.          0.          0.          0.        ]\n",
      " [ 3.808905    5.47078813  0.42555057  0.56354208  0.5         0.56068143\n",
      "   0.          0.          0.          0.        ]\n",
      " [ 3.808905    5.47078813  0.42555057  0.56354208  0.56068143  0.5\n",
      "   0.          0.          0.          0.        ]\n",
      " [ 0.          0.          0.          0.          0.          0.\n",
      "   0.          0.          0.          0.        ]\n",
      " [ 0.          0.          0.          0.          0.          0.\n",
      "   0.          0.          0.          0.        ]\n",
      " [ 0.          0.          0.          0.          0.          0.\n",
      "   0.          0.          0.          0.        ]\n",
      " [ 0.          0.          0.          0.          0.          0.\n",
      "   0.          0.          0.          0.        ]]\n"
     ]
    }
   ],
   "source": [
    "# Zero-padding\n",
    "cm = CoulombMatrix(n_atoms_max=10,sparse=False)\n",
    "methanol_ = molecule(\"CH3OH\")\n",
    "cm_methanol = cm.create(methanol_)\n",
    "\n",
    "print(\"zero-padded\", cm_methanol)\n",
    "print(cm_methanol.shape)\n",
    "print(cm.unflatten(cm_methanol))"
   ]
  },
  {
   "cell_type": "code",
   "execution_count": 19,
   "id": "21d76aa3",
   "metadata": {},
   "outputs": [
    {
     "name": "stdout",
     "output_type": "stream",
     "text": [
      "with pbc [73.51669472 33.73297539  8.24741496  3.96011613  3.808905    3.808905\n",
      " 33.73297539 36.8581052   3.08170819  5.50690929  5.47078813  5.47078813\n",
      "  8.24741496  3.08170819  0.5         0.35443545  0.42555057  0.42555057\n",
      "  3.96011613  5.50690929  0.35443545  0.5         0.56354208  0.56354208\n",
      "  3.808905    5.47078813  0.42555057  0.56354208  0.5         0.56068143\n",
      "  3.808905    5.47078813  0.42555057  0.56354208  0.56068143  0.5       ]\n"
     ]
    }
   ],
   "source": [
    "# Not meant for periodic systems\n",
    "methanol_ = molecule(\"CH3OH\")\n",
    "methanol_.set_pbc([True, True, True])\n",
    "methanol_.set_cell([[10.0, 0.0, 0.0],\n",
    "    [0.0, 10.0, 0.0],\n",
    "    [0.0, 0.0, 10.0],\n",
    "    ])\n",
    "\n",
    "cm = CoulombMatrix(n_atoms_max=6)\n",
    "\n",
    "cm_methanol = cm.create(methanol_)\n",
    "print(\"with pbc\", cm_methanol)"
   ]
  },
  {
   "cell_type": "code",
   "execution_count": 12,
   "id": "b99201c6",
   "metadata": {},
   "outputs": [
    {
     "name": "stdout",
     "output_type": "stream",
     "text": [
      "[73.51669472 33.73297539  8.24741496  3.96011613  3.808905    3.808905\n",
      " 33.73297539 36.8581052   3.08170819  5.50690929  5.47078813  5.47078813\n",
      "  8.24741496  3.08170819  0.5         0.35443545  0.42555057  0.42555057\n",
      "  3.96011613  5.50690929  0.35443545  0.5         0.56354208  0.56354208\n",
      "  3.808905    5.47078813  0.42555057  0.56354208  0.5         0.56068143\n",
      "  3.808905    5.47078813  0.42555057  0.56354208  0.56068143  0.5       ]\n",
      "[73.51669472 33.73297539  8.24741496  3.96011613  3.808905    3.808905\n",
      " 33.73297539 36.8581052   3.08170819  5.50690929  5.47078813  5.47078813\n",
      "  8.24741496  3.08170819  0.5         0.35443545  0.42555057  0.42555057\n",
      "  3.96011613  5.50690929  0.35443545  0.5         0.56354208  0.56354208\n",
      "  3.808905    5.47078813  0.42555057  0.56354208  0.5         0.56068143\n",
      "  3.808905    5.47078813  0.42555057  0.56354208  0.56068143  0.5       ]\n",
      "[73.51669472 33.73297539  8.24741496  3.96011613  3.808905    3.808905\n",
      " 33.73297539 36.8581052   3.08170819  5.50690929  5.47078813  5.47078813\n",
      "  8.24741496  3.08170819  0.5         0.35443545  0.42555057  0.42555057\n",
      "  3.96011613  5.50690929  0.35443545  0.5         0.56354208  0.56354208\n",
      "  3.808905    5.47078813  0.42555057  0.56354208  0.5         0.56068143\n",
      "  3.808905    5.47078813  0.42555057  0.56354208  0.56068143  0.5       ]\n"
     ]
    }
   ],
   "source": [
    "# Invariance\n",
    "cm = CoulombMatrix(\n",
    "    n_atoms_max=6,\n",
    "    permutation=\"sorted_l2\"\n",
    ")\n",
    "\n",
    "# Translation\n",
    "methanol_.translate((5, 7, 9))\n",
    "cm_methanol = cm.create(methanol_)\n",
    "print(cm_methanol)\n",
    "\n",
    "# Rotation\n",
    "methanol_.rotate(90, 'z', center=(0, 0, 0))\n",
    "cm_methanol = cm.create(methanol_)\n",
    "print(cm_methanol)\n",
    "\n",
    "# Permutation\n",
    "upside_down_methanol = methanol_[::-1]\n",
    "cm_methanol = cm.create(upside_down_methanol)\n",
    "print(cm_methanol)"
   ]
  },
  {
   "cell_type": "code",
   "execution_count": 13,
   "id": "67080a20",
   "metadata": {},
   "outputs": [
    {
     "data": {
      "text/plain": [
       "Atoms(symbols='COH4', pbc=True, cell=[10.0, 10.0, 10.0])"
      ]
     },
     "execution_count": 13,
     "metadata": {},
     "output_type": "execute_result"
    }
   ],
   "source": [
    "methanol_"
   ]
  },
  {
   "cell_type": "code",
   "execution_count": 14,
   "id": "76631da3",
   "metadata": {},
   "outputs": [
    {
     "data": {
      "text/plain": [
       "Atoms(symbols='H4OC', pbc=True, cell=[10.0, 10.0, 10.0])"
      ]
     },
     "execution_count": 14,
     "metadata": {},
     "output_type": "execute_result"
    }
   ],
   "source": [
    "methanol_[::-1]"
   ]
  },
  {
   "cell_type": "code",
   "execution_count": 15,
   "id": "4dea87e0",
   "metadata": {},
   "outputs": [
    {
     "name": "stdout",
     "output_type": "stream",
     "text": [
      "['H', 'H', 'H', 'H', 'O', 'C']\n"
     ]
    }
   ],
   "source": [
    "print(methanol_[::-1].get_chemical_symbols())"
   ]
  },
  {
   "cell_type": "code",
   "execution_count": 16,
   "id": "a7b70151",
   "metadata": {},
   "outputs": [
    {
     "name": "stdout",
     "output_type": "stream",
     "text": [
      "['C', 'O', 'H', 'H', 'H', 'H']\n"
     ]
    }
   ],
   "source": [
    "print(methanol_.get_chemical_symbols())"
   ]
  },
  {
   "cell_type": "code",
   "execution_count": null,
   "id": "3b76472c",
   "metadata": {},
   "outputs": [],
   "source": []
  }
 ],
 "metadata": {
  "kernelspec": {
   "display_name": "Python 3 (ipykernel)",
   "language": "python",
   "name": "python3"
  },
  "language_info": {
   "codemirror_mode": {
    "name": "ipython",
    "version": 3
   },
   "file_extension": ".py",
   "mimetype": "text/x-python",
   "name": "python",
   "nbconvert_exporter": "python",
   "pygments_lexer": "ipython3",
   "version": "3.11.3"
  }
 },
 "nbformat": 4,
 "nbformat_minor": 5
}
