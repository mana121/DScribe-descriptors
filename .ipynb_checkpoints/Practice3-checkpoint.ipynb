{
 "cells": [
  {
   "cell_type": "code",
   "execution_count": 6,
   "id": "fe8d6d8a",
   "metadata": {},
   "outputs": [],
   "source": [
    "from ase import Atoms\n",
    "d = 1.1\n",
    "co = Atoms('CO', positions=[(0, 0, 0), (0, 0, d)])"
   ]
  },
  {
   "cell_type": "code",
   "execution_count": 7,
   "id": "769b7e8e",
   "metadata": {},
   "outputs": [
    {
     "data": {
      "text/plain": [
       "Atoms(symbols='CO', pbc=False)"
      ]
     },
     "execution_count": 7,
     "metadata": {},
     "output_type": "execute_result"
    }
   ],
   "source": [
    "co"
   ]
  },
  {
   "cell_type": "code",
   "execution_count": 8,
   "id": "fd282376",
   "metadata": {},
   "outputs": [
    {
     "data": {
      "text/plain": [
       "array([[0. , 0. , 0. ],\n",
       "       [0. , 0. , 1.1]])"
      ]
     },
     "execution_count": 8,
     "metadata": {},
     "output_type": "execute_result"
    }
   ],
   "source": [
    "co.get_positions()"
   ]
  },
  {
   "cell_type": "code",
   "execution_count": 18,
   "id": "cdbd95b3",
   "metadata": {},
   "outputs": [
    {
     "data": {
      "text/plain": [
       "array([6, 8])"
      ]
     },
     "execution_count": 18,
     "metadata": {},
     "output_type": "execute_result"
    }
   ],
   "source": [
    "co.get_atomic_numbers()"
   ]
  },
  {
   "cell_type": "code",
   "execution_count": 22,
   "id": "2c0f7302",
   "metadata": {},
   "outputs": [
    {
     "data": {
      "text/plain": [
       "array([0., 0.])"
      ]
     },
     "execution_count": 22,
     "metadata": {},
     "output_type": "execute_result"
    }
   ],
   "source": [
    "co.get_initial_charges()"
   ]
  },
  {
   "cell_type": "code",
   "execution_count": 25,
   "id": "75286a04",
   "metadata": {},
   "outputs": [
    {
     "data": {
      "text/plain": [
       "['C', 'O']"
      ]
     },
     "execution_count": 25,
     "metadata": {},
     "output_type": "execute_result"
    }
   ],
   "source": [
    "co.get_chemical_symbols()"
   ]
  },
  {
   "cell_type": "code",
   "execution_count": 29,
   "id": "35f830d4",
   "metadata": {},
   "outputs": [
    {
     "data": {
      "text/plain": [
       "'CO'"
      ]
     },
     "execution_count": 29,
     "metadata": {},
     "output_type": "execute_result"
    }
   ],
   "source": [
    "co.get_chemical_formula()"
   ]
  },
  {
   "cell_type": "code",
   "execution_count": 31,
   "id": "b387af9b",
   "metadata": {},
   "outputs": [
    {
     "data": {
      "text/plain": [
       "array([12.011, 15.999])"
      ]
     },
     "execution_count": 31,
     "metadata": {},
     "output_type": "execute_result"
    }
   ],
   "source": [
    "co.get_masses()"
   ]
  },
  {
   "cell_type": "code",
   "execution_count": 2,
   "id": "0fd1f397",
   "metadata": {},
   "outputs": [],
   "source": [
    "from ase import Atoms\n",
    "d = 2.9\n",
    "L = 10.0\n",
    "wire = Atoms('Au',\n",
    "             positions=[[0, L / 2, L / 2]],\n",
    "             cell=[d, L, L],\n",
    "             pbc=[1, 0, 0])"
   ]
  },
  {
   "cell_type": "code",
   "execution_count": 3,
   "id": "b77aed7b",
   "metadata": {},
   "outputs": [
    {
     "data": {
      "text/plain": [
       "Atoms(symbols='Au', pbc=[True, False, False], cell=[2.9, 10.0, 10.0])"
      ]
     },
     "execution_count": 3,
     "metadata": {},
     "output_type": "execute_result"
    }
   ],
   "source": [
    "wire"
   ]
  },
  {
   "cell_type": "code",
   "execution_count": 9,
   "id": "6b6c7e27",
   "metadata": {},
   "outputs": [
    {
     "data": {
      "text/plain": [
       "array([[0., 5., 5.]])"
      ]
     },
     "execution_count": 9,
     "metadata": {},
     "output_type": "execute_result"
    }
   ],
   "source": [
    "wire.get_positions()"
   ]
  },
  {
   "cell_type": "code",
   "execution_count": 17,
   "id": "87fa4abf",
   "metadata": {},
   "outputs": [
    {
     "data": {
      "text/plain": [
       "array([79])"
      ]
     },
     "execution_count": 17,
     "metadata": {},
     "output_type": "execute_result"
    }
   ],
   "source": [
    "wire.get_atomic_numbers()"
   ]
  },
  {
   "cell_type": "code",
   "execution_count": 23,
   "id": "af1024f1",
   "metadata": {},
   "outputs": [
    {
     "data": {
      "text/plain": [
       "array([0.])"
      ]
     },
     "execution_count": 23,
     "metadata": {},
     "output_type": "execute_result"
    }
   ],
   "source": [
    "wire.get_initial_charges()"
   ]
  },
  {
   "cell_type": "code",
   "execution_count": 26,
   "id": "7ba21992",
   "metadata": {},
   "outputs": [
    {
     "data": {
      "text/plain": [
       "['Au']"
      ]
     },
     "execution_count": 26,
     "metadata": {},
     "output_type": "execute_result"
    }
   ],
   "source": [
    "wire.get_chemical_symbols()"
   ]
  },
  {
   "cell_type": "code",
   "execution_count": 30,
   "id": "36e2b76e",
   "metadata": {},
   "outputs": [
    {
     "data": {
      "text/plain": [
       "'Au'"
      ]
     },
     "execution_count": 30,
     "metadata": {},
     "output_type": "execute_result"
    }
   ],
   "source": [
    "wire.get_chemical_formula()"
   ]
  },
  {
   "cell_type": "code",
   "execution_count": 32,
   "id": "bb704063",
   "metadata": {},
   "outputs": [
    {
     "data": {
      "text/plain": [
       "array([196.966569])"
      ]
     },
     "execution_count": 32,
     "metadata": {},
     "output_type": "execute_result"
    }
   ],
   "source": [
    "wire.get_masses()"
   ]
  },
  {
   "cell_type": "code",
   "execution_count": 14,
   "id": "bc1ce98a",
   "metadata": {},
   "outputs": [
    {
     "data": {
      "text/plain": [
       "array([[0., 0., 0.],\n",
       "       [1., 0., 0.],\n",
       "       [0., 0., 1.]])"
      ]
     },
     "execution_count": 14,
     "metadata": {},
     "output_type": "execute_result"
    }
   ],
   "source": [
    "from ase import Atoms\n",
    "atoms = Atoms('N3', [(0, 0, 0), (1, 0, 0), (0, 0, 1)])\n",
    "atoms.get_positions()"
   ]
  },
  {
   "cell_type": "code",
   "execution_count": 15,
   "id": "33079f58",
   "metadata": {},
   "outputs": [
    {
     "data": {
      "text/plain": [
       "array([[2., 0., 0.],\n",
       "       [0., 2., 2.],\n",
       "       [2., 2., 0.]])"
      ]
     },
     "execution_count": 15,
     "metadata": {},
     "output_type": "execute_result"
    }
   ],
   "source": [
    "atoms.set_positions([(2, 0, 0), (0, 2, 2), (2, 2, 0)])\n",
    "atoms.get_positions()"
   ]
  },
  {
   "cell_type": "code",
   "execution_count": 16,
   "id": "59c12363",
   "metadata": {},
   "outputs": [
    {
     "data": {
      "text/plain": [
       "array([7, 7, 7])"
      ]
     },
     "execution_count": 16,
     "metadata": {},
     "output_type": "execute_result"
    }
   ],
   "source": [
    "atoms.get_atomic_numbers()"
   ]
  },
  {
   "cell_type": "code",
   "execution_count": 19,
   "id": "30f91fb8",
   "metadata": {},
   "outputs": [
    {
     "data": {
      "text/plain": [
       "array([0., 0., 0.])"
      ]
     },
     "execution_count": 19,
     "metadata": {},
     "output_type": "execute_result"
    }
   ],
   "source": [
    "atoms.get_initial_charges()"
   ]
  },
  {
   "cell_type": "code",
   "execution_count": 24,
   "id": "6a54f92c",
   "metadata": {},
   "outputs": [
    {
     "data": {
      "text/plain": [
       "['N', 'N', 'N']"
      ]
     },
     "execution_count": 24,
     "metadata": {},
     "output_type": "execute_result"
    }
   ],
   "source": [
    "atoms.get_chemical_symbols()"
   ]
  },
  {
   "cell_type": "code",
   "execution_count": 28,
   "id": "996bface",
   "metadata": {},
   "outputs": [
    {
     "data": {
      "text/plain": [
       "'N3'"
      ]
     },
     "execution_count": 28,
     "metadata": {},
     "output_type": "execute_result"
    }
   ],
   "source": [
    "atoms.get_chemical_formula()"
   ]
  },
  {
   "cell_type": "code",
   "execution_count": 33,
   "id": "cf1f7953",
   "metadata": {},
   "outputs": [
    {
     "data": {
      "text/plain": [
       "array([14.007, 14.007, 14.007])"
      ]
     },
     "execution_count": 33,
     "metadata": {},
     "output_type": "execute_result"
    }
   ],
   "source": [
    "atoms.get_masses()"
   ]
  },
  {
   "cell_type": "code",
   "execution_count": null,
   "id": "5befcf1b",
   "metadata": {},
   "outputs": [],
   "source": [
    " "
   ]
  },
  {
   "cell_type": "code",
   "execution_count": 1,
   "id": "93be0051",
   "metadata": {},
   "outputs": [
    {
     "data": {
      "text/plain": [
       "-2.427536669999995"
      ]
     },
     "execution_count": 1,
     "metadata": {},
     "output_type": "execute_result"
    }
   ],
   "source": [
    "-695.23717473-(-221.50503553-471.30460253)"
   ]
  },
  {
   "cell_type": "code",
   "execution_count": null,
   "id": "9782126f",
   "metadata": {},
   "outputs": [],
   "source": []
  }
 ],
 "metadata": {
  "kernelspec": {
   "display_name": "Python 3 (ipykernel)",
   "language": "python",
   "name": "python3"
  },
  "language_info": {
   "codemirror_mode": {
    "name": "ipython",
    "version": 3
   },
   "file_extension": ".py",
   "mimetype": "text/x-python",
   "name": "python",
   "nbconvert_exporter": "python",
   "pygments_lexer": "ipython3",
   "version": "3.11.3"
  }
 },
 "nbformat": 4,
 "nbformat_minor": 5
}
