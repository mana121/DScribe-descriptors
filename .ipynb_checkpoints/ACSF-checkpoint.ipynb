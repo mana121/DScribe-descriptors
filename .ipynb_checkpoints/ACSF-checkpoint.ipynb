{
 "cells": [
  {
   "cell_type": "code",
   "execution_count": 1,
   "id": "01f0c3e4",
   "metadata": {},
   "outputs": [],
   "source": [
    "from dscribe.descriptors import ACSF\n",
    "\n",
    "# Setting up the ACSF descriptor\n",
    "acsf = ACSF(\n",
    "    species=[\"H\", \"O\"],\n",
    "    r_cut=6.0,\n",
    "    g2_params=[[1, 1], [1, 2], [1, 3]],\n",
    "    g4_params=[[1, 1, 1], [1, 2, 1], [1, 1, -1], [1, 2, -1]],\n",
    ")"
   ]
  },
  {
   "cell_type": "code",
   "execution_count": 4,
   "id": "84f92455",
   "metadata": {},
   "outputs": [
    {
     "name": "stdout",
     "output_type": "stream",
     "text": [
      "20\n",
      "[[8.48617960e-01 6.43183466e-01 6.78161874e-01 9.67704822e-02\n",
      "  9.37068693e-01 9.36143179e-01 3.23402756e-01 1.51201533e-02\n",
      "  0.00000000e+00 0.00000000e+00 0.00000000e+00 0.00000000e+00\n",
      "  1.98527704e-02 1.77484768e-02 2.35378268e-03 2.49489098e-04\n",
      "  0.00000000e+00 0.00000000e+00 0.00000000e+00 0.00000000e+00]]\n",
      "(1, 20)\n"
     ]
    }
   ],
   "source": [
    "from ase.build import molecule\n",
    "\n",
    "water = molecule(\"H2O\")\n",
    "print(acsf.get_number_of_features())\n",
    "\n",
    "# Create MBTR output for the hydrogen atom at index 1\n",
    "acsf_water = acsf.create(water, centers=[1])\n",
    "\n",
    "print(acsf_water)\n",
    "print(acsf_water.shape)"
   ]
  },
  {
   "cell_type": "code",
   "execution_count": 38,
   "id": "22ea7b22",
   "metadata": {},
   "outputs": [
    {
     "data": {
      "text/plain": [
       "Atoms(symbols='OH2', pbc=False)"
      ]
     },
     "execution_count": 38,
     "metadata": {},
     "output_type": "execute_result"
    }
   ],
   "source": [
    "water"
   ]
  },
  {
   "cell_type": "code",
   "execution_count": 39,
   "id": "d022aa00",
   "metadata": {},
   "outputs": [
    {
     "name": "stdout",
     "output_type": "stream",
     "text": [
      "['O', 'H', 'H']\n"
     ]
    }
   ],
   "source": [
    "print(water.get_chemical_symbols())"
   ]
  },
  {
   "cell_type": "code",
   "execution_count": 40,
   "id": "211553ad",
   "metadata": {},
   "outputs": [
    {
     "data": {
      "text/plain": [
       "Atom('O', [0.0, 0.0, 0.119262], index=0)"
      ]
     },
     "execution_count": 40,
     "metadata": {},
     "output_type": "execute_result"
    }
   ],
   "source": [
    "water[0]"
   ]
  },
  {
   "cell_type": "code",
   "execution_count": 41,
   "id": "383603be",
   "metadata": {},
   "outputs": [
    {
     "data": {
      "text/plain": [
       "Atom('H', [0.0, 0.763239, -0.477047], index=1)"
      ]
     },
     "execution_count": 41,
     "metadata": {},
     "output_type": "execute_result"
    }
   ],
   "source": [
    "water[1]"
   ]
  },
  {
   "cell_type": "code",
   "execution_count": 42,
   "id": "7be361a0",
   "metadata": {},
   "outputs": [
    {
     "data": {
      "text/plain": [
       "Atom('H', [0.0, -0.763239, -0.477047], index=2)"
      ]
     },
     "execution_count": 42,
     "metadata": {},
     "output_type": "execute_result"
    }
   ],
   "source": [
    "water[2]"
   ]
  },
  {
   "cell_type": "code",
   "execution_count": 43,
   "id": "7f3fd68d",
   "metadata": {},
   "outputs": [
    {
     "name": "stdout",
     "output_type": "stream",
     "text": [
      "[[1.87413739 1.87228636 0.64680551 0.03024031 0.         0.\n",
      "  0.         0.         0.00841717 0.00319045 0.01378938 0.00856265\n",
      "  0.         0.         0.         0.         0.         0.\n",
      "  0.         0.        ]]\n",
      "(1, 20)\n"
     ]
    }
   ],
   "source": [
    "acsf_water = acsf.create(water, centers=[0])\n",
    "\n",
    "print(acsf_water)\n",
    "print(acsf_water.shape)"
   ]
  },
  {
   "cell_type": "code",
   "execution_count": 44,
   "id": "11283863",
   "metadata": {},
   "outputs": [
    {
     "name": "stdout",
     "output_type": "stream",
     "text": [
      "[[1.87413739e+00 1.87228636e+00 6.46805513e-01 3.02403065e-02\n",
      "  0.00000000e+00 0.00000000e+00 0.00000000e+00 0.00000000e+00\n",
      "  8.41717432e-03 3.19044668e-03 1.37893788e-02 8.56265112e-03\n",
      "  0.00000000e+00 0.00000000e+00 0.00000000e+00 0.00000000e+00\n",
      "  0.00000000e+00 0.00000000e+00 0.00000000e+00 0.00000000e+00]\n",
      " [8.48617960e-01 6.43183466e-01 6.78161874e-01 9.67704822e-02\n",
      "  9.37068693e-01 9.36143179e-01 3.23402756e-01 1.51201533e-02\n",
      "  0.00000000e+00 0.00000000e+00 0.00000000e+00 0.00000000e+00\n",
      "  1.98527704e-02 1.77484768e-02 2.35378268e-03 2.49489098e-04\n",
      "  0.00000000e+00 0.00000000e+00 0.00000000e+00 0.00000000e+00]\n",
      " [8.48617960e-01 6.43183466e-01 6.78161874e-01 9.67704822e-02\n",
      "  9.37068693e-01 9.36143179e-01 3.23402756e-01 1.51201533e-02\n",
      "  0.00000000e+00 0.00000000e+00 0.00000000e+00 0.00000000e+00\n",
      "  1.98527704e-02 1.77484768e-02 2.35378268e-03 2.49489098e-04\n",
      "  0.00000000e+00 0.00000000e+00 0.00000000e+00 0.00000000e+00]]\n",
      "(3, 20)\n"
     ]
    }
   ],
   "source": [
    "acsf_water = acsf.create(water)\n",
    "print(acsf_water)\n",
    "print(acsf_water.shape)"
   ]
  },
  {
   "cell_type": "code",
   "execution_count": null,
   "id": "6fd39b6a",
   "metadata": {},
   "outputs": [],
   "source": []
  }
 ],
 "metadata": {
  "kernelspec": {
   "display_name": "Python 3 (ipykernel)",
   "language": "python",
   "name": "python3"
  },
  "language_info": {
   "codemirror_mode": {
    "name": "ipython",
    "version": 3
   },
   "file_extension": ".py",
   "mimetype": "text/x-python",
   "name": "python",
   "nbconvert_exporter": "python",
   "pygments_lexer": "ipython3",
   "version": "3.11.3"
  }
 },
 "nbformat": 4,
 "nbformat_minor": 5
}
