{
 "cells": [
  {
   "cell_type": "code",
   "execution_count": 1,
   "id": "8f9f72ac",
   "metadata": {},
   "outputs": [],
   "source": [
    "from dscribe.descriptors import SOAP\n",
    "\n",
    "species = [\"H\", \"C\", \"O\", \"N\"]\n",
    "r_cut = 6.0\n",
    "n_max = 8\n",
    "l_max = 6\n",
    "\n",
    "# Setting up the SOAP descriptor\n",
    "soap = SOAP(\n",
    "    species=species,\n",
    "    periodic=False,\n",
    "    r_cut=r_cut,\n",
    "    n_max=n_max,\n",
    "    l_max=l_max,\n",
    ")"
   ]
  },
  {
   "cell_type": "code",
   "execution_count": 2,
   "id": "afc09de8",
   "metadata": {},
   "outputs": [
    {
     "name": "stdout",
     "output_type": "stream",
     "text": [
      "3696\n"
     ]
    }
   ],
   "source": [
    "print(soap.get_number_of_features())"
   ]
  },
  {
   "cell_type": "code",
   "execution_count": 3,
   "id": "c42fc273",
   "metadata": {},
   "outputs": [
    {
     "name": "stdout",
     "output_type": "stream",
     "text": [
      "3696\n",
      "[[0.0133052  0.06639816 0.18271708 ... 0.         0.         0.        ]]\n",
      "(1, 3696)\n"
     ]
    }
   ],
   "source": [
    "from ase.build import molecule\n",
    "\n",
    "# Molecule created as an ASE.Atoms\n",
    "water = molecule(\"H2O\")\n",
    "print(soap.get_number_of_features())\n",
    "\n",
    "# Create SOAP output for the system\n",
    "soap_water = soap.create(water, centers=[0])\n",
    "\n",
    "print(soap_water)\n",
    "print(soap_water.shape)\n"
   ]
  },
  {
   "cell_type": "markdown",
   "id": "9bfbd0d9",
   "metadata": {},
   "source": [
    "By choosing the centers, you can obtain SOAP descriptors that capture the local environments around those positions or atoms. This is particularly useful when you want to analyze the structural and chemical properties of specific regions or atoms in the system. It allows you to extract information about the local atomic configurations, bonding patterns, and interactions at those particular locations."
   ]
  },
  {
   "cell_type": "markdown",
   "id": "46d4a63c",
   "metadata": {},
   "source": [
    "In the context of the Smooth Overlap of Atomic Positions (SOAP) method, when you compute the SOAP descriptor for a set of centers, the output will be a numpy array with a specific shape [n_positions, n_features].\n",
    "\n",
    "The n_positions represents the number of positions or centers for which the SOAP descriptor is calculated. It corresponds to the length of the centers input list.\n",
    "\n",
    "The n_features represents the number of features or components in the SOAP descriptor. Each feature captures a specific characteristic or property of the local atomic environment around each center. The number of features depends on the chosen parameters for SOAP, such as the radial cutoff, the maximum degree of spherical harmonics (l_max), and the maximum number of radial basis functions (n_max).\n",
    "\n",
    "The output numpy array will have dimensions [n_positions, n_features], where each row corresponds to a specific position or center, and each column corresponds to a specific feature of the SOAP descriptor."
   ]
  },
  {
   "cell_type": "code",
   "execution_count": 4,
   "id": "302d79e1",
   "metadata": {},
   "outputs": [
    {
     "data": {
      "text/plain": [
       "['O', 'H', 'H']"
      ]
     },
     "execution_count": 4,
     "metadata": {},
     "output_type": "execute_result"
    }
   ],
   "source": [
    "water.get_chemical_symbols()"
   ]
  },
  {
   "cell_type": "code",
   "execution_count": 5,
   "id": "bd84a117",
   "metadata": {},
   "outputs": [
    {
     "data": {
      "text/plain": [
       "Atom('O', [0.0, 0.0, 0.119262], index=0)"
      ]
     },
     "execution_count": 5,
     "metadata": {},
     "output_type": "execute_result"
    }
   ],
   "source": [
    "water[0]"
   ]
  },
  {
   "cell_type": "code",
   "execution_count": 6,
   "id": "c44f4cb3",
   "metadata": {},
   "outputs": [
    {
     "data": {
      "text/plain": [
       "Atom('H', [0.0, 0.763239, -0.477047], index=1)"
      ]
     },
     "execution_count": 6,
     "metadata": {},
     "output_type": "execute_result"
    }
   ],
   "source": [
    "water[1]"
   ]
  },
  {
   "cell_type": "code",
   "execution_count": 7,
   "id": "573cadd3",
   "metadata": {},
   "outputs": [
    {
     "data": {
      "text/plain": [
       "Atom('H', [0.0, -0.763239, -0.477047], index=2)"
      ]
     },
     "execution_count": 7,
     "metadata": {},
     "output_type": "execute_result"
    }
   ],
   "source": [
    "water[2]"
   ]
  },
  {
   "cell_type": "code",
   "execution_count": 8,
   "id": "98798fc0",
   "metadata": {},
   "outputs": [
    {
     "data": {
      "text/plain": [
       "Atoms(symbols='OH', pbc=False)"
      ]
     },
     "execution_count": 8,
     "metadata": {},
     "output_type": "execute_result"
    }
   ],
   "source": [
    "water[0,1]"
   ]
  },
  {
   "cell_type": "code",
   "execution_count": 9,
   "id": "d2f98677",
   "metadata": {},
   "outputs": [
    {
     "data": {
      "text/plain": [
       "Atoms(symbols='H2', pbc=False)"
      ]
     },
     "execution_count": 9,
     "metadata": {},
     "output_type": "execute_result"
    }
   ],
   "source": [
    "water[1,1]"
   ]
  },
  {
   "cell_type": "code",
   "execution_count": 10,
   "id": "3f2c1c76",
   "metadata": {},
   "outputs": [
    {
     "data": {
      "text/plain": [
       "Atoms(symbols='H2OH', pbc=False)"
      ]
     },
     "execution_count": 10,
     "metadata": {},
     "output_type": "execute_result"
    }
   ],
   "source": [
    "water[1,1,0,1]"
   ]
  },
  {
   "cell_type": "code",
   "execution_count": 11,
   "id": "edaa49d7",
   "metadata": {},
   "outputs": [
    {
     "data": {
      "text/plain": [
       "Atoms(symbols='OH2', pbc=False)"
      ]
     },
     "execution_count": 11,
     "metadata": {},
     "output_type": "execute_result"
    }
   ],
   "source": [
    "water[0,1,2]"
   ]
  },
  {
   "cell_type": "code",
   "execution_count": 12,
   "id": "0047a443",
   "metadata": {},
   "outputs": [
    {
     "data": {
      "text/plain": [
       "Atoms(symbols='OH2', pbc=False)"
      ]
     },
     "execution_count": 12,
     "metadata": {},
     "output_type": "execute_result"
    }
   ],
   "source": [
    "water"
   ]
  },
  {
   "cell_type": "code",
   "execution_count": 13,
   "id": "29f2b98d",
   "metadata": {},
   "outputs": [
    {
     "name": "stdout",
     "output_type": "stream",
     "text": [
      "[[1.33052037e-02 6.63981593e-02 1.82717076e-01 ... 0.00000000e+00\n",
      "  0.00000000e+00 0.00000000e+00]\n",
      " [2.01109441e-02 9.84941062e-02 2.53918483e-01 ... 8.41880000e-07\n",
      "  2.58585961e-06 7.94254519e-06]]\n",
      "(2, 3696)\n"
     ]
    }
   ],
   "source": [
    "from ase.build import molecule\n",
    "\n",
    "# Molecule created as an ASE.Atoms\n",
    "water = molecule(\"H2O\")\n",
    "\n",
    "# Create SOAP output for the system\n",
    "soap_water = soap.create(water, centers=[0,1])\n",
    "\n",
    "print(soap_water)\n",
    "print(soap_water.shape)"
   ]
  },
  {
   "cell_type": "code",
   "execution_count": 14,
   "id": "e5a278d7",
   "metadata": {},
   "outputs": [],
   "source": [
    "# Create output for multiple system\n",
    "samples = [molecule(\"H2O\"), molecule(\"NO2\"), molecule(\"CO2\")]\n",
    "centers = [[0], [1, 2], [1, 2]]\n",
    "coulomb_matrices = soap.create(samples, centers)            # Serial\n",
    "coulomb_matrices = soap.create(samples, centers, n_jobs=2)  # Parallel"
   ]
  },
  {
   "cell_type": "code",
   "execution_count": 15,
   "id": "5ce77cfc",
   "metadata": {},
   "outputs": [
    {
     "data": {
      "text/plain": [
       "[array([[0.0133052 , 0.06639816, 0.18271708, ..., 0.        , 0.        ,\n",
       "         0.        ]]),\n",
       " array([[ 0.00000000e+00,  0.00000000e+00,  0.00000000e+00, ...,\n",
       "          5.90722532e-05, -1.38062019e-03,  3.22674691e-02],\n",
       "        [ 0.00000000e+00,  0.00000000e+00,  0.00000000e+00, ...,\n",
       "          5.90722532e-05, -1.38062019e-03,  3.22674691e-02]]),\n",
       " array([[ 0.        ,  0.        ,  0.        , ...,  0.00038799,\n",
       "         -0.0043077 ,  0.04782681],\n",
       "        [ 0.        ,  0.        ,  0.        , ...,  0.00038799,\n",
       "         -0.0043077 ,  0.04782681]])]"
      ]
     },
     "execution_count": 15,
     "metadata": {},
     "output_type": "execute_result"
    }
   ],
   "source": [
    "coulomb_matrices"
   ]
  },
  {
   "cell_type": "code",
   "execution_count": 16,
   "id": "e332f916",
   "metadata": {},
   "outputs": [
    {
     "name": "stdout",
     "output_type": "stream",
     "text": [
      "[[0.0133052  0.06639816 0.18271708 ... 0.         0.         0.        ]]\n",
      "(1, 3696)\n"
     ]
    }
   ],
   "source": [
    "from ase.build import molecule\n",
    "\n",
    "# Molecule created as an ASE.Atoms\n",
    "water = molecule(\"H2O\")\n",
    "\n",
    "# Create SOAP output for the system\n",
    "soap_water = soap.create(water, centers=[0])\n",
    "\n",
    "print(soap_water)\n",
    "print(soap_water.shape)"
   ]
  },
  {
   "cell_type": "code",
   "execution_count": 17,
   "id": "569557e9",
   "metadata": {},
   "outputs": [
    {
     "name": "stdout",
     "output_type": "stream",
     "text": [
      "[[1.33052037e-02 6.63981593e-02 1.82717076e-01 ... 0.00000000e+00\n",
      "  0.00000000e+00 0.00000000e+00]\n",
      " [2.01109441e-02 9.84941062e-02 2.53918483e-01 ... 8.41880000e-07\n",
      "  2.58585961e-06 7.94254519e-06]\n",
      " [2.01109441e-02 9.84941062e-02 2.53918483e-01 ... 8.41880000e-07\n",
      "  2.58585961e-06 7.94254519e-06]]\n",
      "(3, 3696)\n"
     ]
    }
   ],
   "source": [
    "from ase.build import molecule\n",
    "\n",
    "# Molecule created as an ASE.Atoms\n",
    "water = molecule(\"H2O\")\n",
    "\n",
    "# Create SOAP output for the system\n",
    "soap_water = soap.create(water)\n",
    "\n",
    "print(soap_water)\n",
    "print(soap_water.shape)"
   ]
  },
  {
   "cell_type": "code",
   "execution_count": 18,
   "id": "eaf603fc",
   "metadata": {},
   "outputs": [
    {
     "name": "stdout",
     "output_type": "stream",
     "text": [
      "36 6660\n"
     ]
    }
   ],
   "source": [
    "# Lets change the SOAP setup and see how the number of features changes\n",
    "small_soap = SOAP(species=species, r_cut=r_cut, n_max=2, l_max=0)\n",
    "big_soap = SOAP(species=species, r_cut=r_cut, n_max=9, l_max=9)\n",
    "n_feat1 = small_soap.get_number_of_features()\n",
    "n_feat2 = big_soap.get_number_of_features()\n",
    "print(n_feat1, n_feat2)"
   ]
  },
  {
   "cell_type": "code",
   "execution_count": 19,
   "id": "a0f2f115",
   "metadata": {},
   "outputs": [
    {
     "name": "stdout",
     "output_type": "stream",
     "text": [
      "[ True  True  True]\n",
      "[[ 1.10246418e-06 -5.88721025e-04  8.29215687e-04 ...  3.24003718e-04\n",
      "   4.84542845e-03  7.24626773e-02]\n",
      " [ 1.10246418e-06 -5.88721024e-04  8.29215687e-04 ...  3.24003718e-04\n",
      "   4.84542845e-03  7.24626773e-02]\n",
      " [ 1.10246418e-06 -5.88721024e-04  8.29215687e-04 ...  3.24003718e-04\n",
      "   4.84542845e-03  7.24626773e-02]\n",
      " [ 1.10246418e-06 -5.88721024e-04  8.29215687e-04 ...  3.24003718e-04\n",
      "   4.84542845e-03  7.24626773e-02]]\n",
      "(4, 324)\n",
      "[9862.58142201 9862.58142201 9862.581422   9862.581422  ]\n"
     ]
    }
   ],
   "source": [
    "from ase.build import bulk\n",
    "\n",
    "copper = bulk('Cu', 'fcc', a=3.6, cubic=True)\n",
    "print(copper.get_pbc())\n",
    "periodic_soap = SOAP(\n",
    "    species=[29],\n",
    "    r_cut=r_cut,\n",
    "    n_max=n_max,\n",
    "    l_max=n_max,\n",
    "    periodic=True,\n",
    "    sparse=False\n",
    ")\n",
    "\n",
    "soap_copper = periodic_soap.create(copper)\n",
    "\n",
    "print(soap_copper)\n",
    "print(soap_copper.shape)  #fcc has 4 atoms\n",
    "print(soap_copper.sum(axis=1))"
   ]
  },
  {
   "cell_type": "code",
   "execution_count": 20,
   "id": "97ae5829",
   "metadata": {},
   "outputs": [],
   "source": [
    "# import numpy as np\n",
    "# a=np.array([[1,2,3],[2,3,4]])\n",
    "# a.shape"
   ]
  },
  {
   "cell_type": "code",
   "execution_count": 21,
   "id": "6d93006e",
   "metadata": {},
   "outputs": [],
   "source": [
    "# a.sum(axis=0)"
   ]
  },
  {
   "cell_type": "markdown",
   "id": "6753a927",
   "metadata": {},
   "source": [
    "weighting paramter:\n",
    "\n",
    "Imagine you have a group of friends, and each friend has a different level of importance or influence. Some friends might have more say in making decisions, while others have less. In the same way, atoms in a molecule or material can have different levels of significance.\n",
    "\n",
    "The weighting parameter in the Smooth Overlap of Atomic Positions (SOAP) method allows us to assign different levels of importance or weights to the atoms when calculating the SOAP descriptor. This means that we can emphasize certain atoms more than others in the analysis.\n",
    "\n",
    "For example, let's consider a molecule with hydrogen (H), carbon (C), oxygen (O), and nitrogen (N) atoms. By using the weighting parameter, we can assign different weights to these atoms based on their importance or relevance in our analysis.\n",
    "\n",
    "The purpose of using the weighting parameter is to highlight specific atoms or elements that play a crucial role in determining the properties or behavior of the molecule or material. By assigning higher weights to these atoms, we give them more influence in the computation of the SOAP descriptor.\n",
    "\n",
    "The weighting parameter can be set based on various criteria, such as the atomic number, which is a unique identifier for each element. This means that atoms with higher atomic numbers can be assigned higher weights, indicating their significance in the analysis.\n",
    "\n",
    "Overall, the weighting parameter allows us to control the importance or influence of different atoms when computing the SOAP descriptor. It helps us focus on specific atoms or elements that are critical for understanding the properties or behavior of the molecule or material under investigation."
   ]
  },
  {
   "cell_type": "code",
   "execution_count": 22,
   "id": "0b5035b2",
   "metadata": {},
   "outputs": [],
   "source": [
    "# The locations of specific element combinations can be retrieved like this.\n",
    "hh_loc = soap.get_location((\"H\", \"H\"))\n",
    "ho_loc = soap.get_location((\"H\", \"O\"))"
   ]
  },
  {
   "cell_type": "code",
   "execution_count": 23,
   "id": "f08c5933",
   "metadata": {},
   "outputs": [
    {
     "name": "stdout",
     "output_type": "stream",
     "text": [
      "[ 1.33052037e-02  6.63981593e-02  1.82717076e-01  3.57309987e-01\n",
      "  5.34152638e-01  6.42461928e-01  6.65549122e-01  6.33855950e-01\n",
      "  3.31352731e-01  9.11829524e-01  1.78311629e+00  2.66563014e+00\n",
      "  3.20613577e+00  3.32134989e+00  3.16318859e+00  2.50920848e+00\n",
      "  4.90684980e+00  7.33538625e+00  8.82277098e+00  9.13982173e+00\n",
      "  8.70458722e+00  9.59552593e+00  1.43446186e+01  1.72532544e+01\n",
      "  1.78732588e+01  1.70221416e+01  2.14441693e+01  2.57923698e+01\n",
      "  2.67192317e+01  2.54468730e+01  3.10222481e+01  3.21370483e+01\n",
      "  3.06066954e+01  3.32919094e+01  3.17065625e+01  3.01967092e+01\n",
      "  2.89318069e-05  3.29291603e-04  1.43975194e-03  3.77438690e-03\n",
      "  6.88649604e-03  9.50709886e-03  1.06580587e-02  1.03935605e-02\n",
      "  3.74788067e-03  1.63867479e-02  4.29587380e-02  7.83796646e-02\n",
      "  1.08206440e-01  1.21306259e-01  1.18295833e-01  7.16472934e-02\n",
      "  1.87827221e-01  3.42697091e-01  4.73107819e-01  5.30383769e-01\n",
      "  5.17221374e-01  4.92399128e-01  8.98398795e-01  1.24027751e+00\n",
      "  1.39042948e+00  1.35592356e+00  1.63915887e+00  2.26292810e+00\n",
      "  2.53688543e+00  2.47392821e+00  3.12406788e+00  3.50227757e+00\n",
      "  3.41536246e+00  3.92627453e+00  3.82883720e+00  3.73381795e+00\n",
      "  5.37180544e-08  1.20226645e-06  8.15727015e-06  2.92888883e-05\n",
      "  6.82422694e-05  1.14584612e-04  1.48051920e-04  1.56500560e-04\n",
      "  2.69079855e-05  1.82568270e-04  6.55516070e-04  1.52733363e-03\n",
      "  2.56452391e-03  3.31355740e-03  3.50264685e-03  1.23870935e-03\n",
      "  4.44761779e-03  1.03628218e-02  1.74000649e-02  2.24821900e-02\n",
      "  2.37651449e-02  1.59692861e-02  3.72079783e-02  6.24753805e-02\n",
      "  8.07228815e-02  8.53293642e-02  8.66935220e-02  1.45565844e-01\n",
      "  1.88081998e-01  1.98814970e-01  2.44417512e-01  3.15805774e-01\n",
      "  3.33827353e-01  4.08044766e-01  4.31330000e-01  4.55944014e-01\n",
      "  8.10740060e-11  4.75996624e-09  4.84585817e-08  2.39696475e-07\n",
      "  7.27956500e-07  1.54216603e-06  2.42561478e-06  2.94737184e-06\n",
      "  2.79464155e-07  2.84506988e-06  1.40729092e-05  4.27393259e-05\n",
      "  9.05426856e-05  1.42411175e-04  1.73044249e-04  2.89640818e-05\n",
      "  1.43268500e-04  4.35105421e-04  9.21764968e-04  1.44980935e-03\n",
      "  1.76166772e-03  7.08666105e-04  2.15221395e-03  4.55943624e-03\n",
      "  7.17136527e-03  8.71394760e-03  6.53625857e-03  1.38469756e-02\n",
      "  2.17793856e-02  2.64641973e-02  2.93346312e-02  4.61393348e-02\n",
      "  5.60640451e-02  7.25708193e-02  8.81810217e-02  1.07149026e-01\n",
      "  2.05512065e-11  9.77090086e-11  1.75006160e-09  1.16435740e-08\n",
      "  4.68816718e-08  1.27567741e-07  2.56632648e-07  3.82987886e-07\n",
      "  4.64549386e-10  8.32052290e-09  5.53584077e-08  2.22895024e-07\n",
      "  6.06510254e-07  1.22013866e-06  1.82088417e-06  1.49028507e-07\n",
      "  9.91521920e-07  3.99226263e-06  1.08631776e-05  2.18538480e-05\n",
      "  3.26137735e-05  6.59682995e-06  2.65614680e-05  7.22752907e-05\n",
      "  1.45398822e-04  2.16987152e-04  1.06947062e-04  2.91009141e-04\n",
      "  5.85433637e-04  8.73676802e-04  7.91852706e-04  1.59299879e-03\n",
      "  2.37732512e-03  3.20469340e-03  4.78255110e-03  7.13728028e-03\n",
      "  5.20990338e-12 -3.48209911e-12  4.46736411e-11  3.37751674e-10\n",
      "  1.86510727e-09  6.53915782e-09  1.74394011e-08  3.48368914e-08\n",
      "  2.32730117e-12 -2.98581441e-11 -2.25740233e-10 -1.24656599e-09\n",
      " -4.37052167e-09 -1.16558252e-08 -2.32836388e-08  3.83065493e-10\n",
      "  2.89613760e-09  1.59928364e-08  5.60716712e-08  1.49538578e-07\n",
      "  2.98717782e-07  2.18960286e-08  1.20912627e-07  4.23925616e-07\n",
      "  1.13057508e-06  2.25843313e-06  6.67694748e-07  2.34097063e-06\n",
      "  6.24317791e-06  1.24713521e-05  8.20755816e-06  2.18888888e-05\n",
      "  4.37251738e-05  5.83758828e-05  1.16611476e-04  2.32942708e-04\n",
      "  1.51305134e-12 -1.81606966e-12  1.14580051e-12 -1.75258776e-11\n",
      " -9.27402600e-11 -4.72365189e-10 -1.60172730e-09 -4.91975335e-09\n",
      "  2.17977336e-12 -1.37526962e-12  2.10357796e-11  1.11313323e-10\n",
      "  5.66965617e-10  1.92250473e-09  5.90503081e-09  8.67689537e-13\n",
      " -1.32719618e-11 -7.02301599e-11 -3.57711772e-10 -1.21295287e-09\n",
      " -3.72562104e-09  2.03004603e-10  1.07422293e-09  5.47146965e-09\n",
      "  1.85530233e-08  5.69861662e-08  5.68437805e-09  2.89529306e-08\n",
      "  9.81755230e-08  3.01549057e-07  1.47469465e-07  5.00049272e-07\n",
      "  1.53591630e-06  1.69560033e-06  5.20808717e-06  1.59967956e-05]\n",
      "[1.51904365e-02 7.36850703e-02 1.84151046e-01 3.05512037e-01\n",
      " 3.78459919e-01 3.88105297e-01 3.60010601e-01 3.19298566e-01\n",
      " 7.58062072e-02 3.67717261e-01 9.18985594e-01 1.52462431e+00\n",
      " 1.88866271e+00 1.93679691e+00 1.79659341e+00 1.59342447e+00\n",
      " 2.08606513e-01 1.01189887e+00 2.52890083e+00 4.19552136e+00\n",
      " 5.19729660e+00 5.32975419e+00 4.94393667e+00 4.38484834e+00\n",
      " 4.07937738e-01 1.97880560e+00 4.94535894e+00 8.20449689e+00\n",
      " 1.01635054e+01 1.04225311e+01 9.66805067e+00 8.57473280e+00\n",
      " 6.09837471e-01 2.95817153e+00 7.39295463e+00 1.22651306e+01\n",
      " 1.51937069e+01 1.55809316e+01 1.44530379e+01 1.28186066e+01\n",
      " 7.33493255e-01 3.55799532e+00 8.89201241e+00 1.47521118e+01\n",
      " 1.82745109e+01 1.87402526e+01 1.73836576e+01 1.54178153e+01\n",
      " 7.59851707e-01 3.68585368e+00 9.21155137e+00 1.52822365e+01\n",
      " 1.89312147e+01 1.94136931e+01 1.80083481e+01 1.59718623e+01\n",
      " 7.23667885e-01 3.51033486e+00 8.77290113e+00 1.45545027e+01\n",
      " 1.80297181e+01 1.84892211e+01 1.71507981e+01 1.52112888e+01\n",
      " 0.00000000e+00 0.00000000e+00 0.00000000e+00 0.00000000e+00\n",
      " 0.00000000e+00 0.00000000e+00 0.00000000e+00 0.00000000e+00\n",
      " 0.00000000e+00 0.00000000e+00 0.00000000e+00 0.00000000e+00\n",
      " 0.00000000e+00 0.00000000e+00 0.00000000e+00 0.00000000e+00\n",
      " 0.00000000e+00 0.00000000e+00 0.00000000e+00 0.00000000e+00\n",
      " 0.00000000e+00 0.00000000e+00 0.00000000e+00 0.00000000e+00\n",
      " 0.00000000e+00 0.00000000e+00 0.00000000e+00 0.00000000e+00\n",
      " 0.00000000e+00 0.00000000e+00 0.00000000e+00 0.00000000e+00\n",
      " 0.00000000e+00 0.00000000e+00 0.00000000e+00 0.00000000e+00\n",
      " 0.00000000e+00 0.00000000e+00 0.00000000e+00 0.00000000e+00\n",
      " 0.00000000e+00 0.00000000e+00 0.00000000e+00 0.00000000e+00\n",
      " 0.00000000e+00 0.00000000e+00 0.00000000e+00 0.00000000e+00\n",
      " 0.00000000e+00 0.00000000e+00 0.00000000e+00 0.00000000e+00\n",
      " 0.00000000e+00 0.00000000e+00 0.00000000e+00 0.00000000e+00\n",
      " 0.00000000e+00 0.00000000e+00 0.00000000e+00 0.00000000e+00\n",
      " 0.00000000e+00 0.00000000e+00 0.00000000e+00 0.00000000e+00\n",
      " 0.00000000e+00 0.00000000e+00 0.00000000e+00 0.00000000e+00\n",
      " 0.00000000e+00 0.00000000e+00 0.00000000e+00 0.00000000e+00\n",
      " 0.00000000e+00 0.00000000e+00 0.00000000e+00 0.00000000e+00\n",
      " 0.00000000e+00 0.00000000e+00 0.00000000e+00 0.00000000e+00\n",
      " 0.00000000e+00 0.00000000e+00 0.00000000e+00 0.00000000e+00\n",
      " 0.00000000e+00 0.00000000e+00 0.00000000e+00 0.00000000e+00\n",
      " 0.00000000e+00 0.00000000e+00 0.00000000e+00 0.00000000e+00\n",
      " 0.00000000e+00 0.00000000e+00 0.00000000e+00 0.00000000e+00\n",
      " 0.00000000e+00 0.00000000e+00 0.00000000e+00 0.00000000e+00\n",
      " 0.00000000e+00 0.00000000e+00 0.00000000e+00 0.00000000e+00\n",
      " 0.00000000e+00 0.00000000e+00 0.00000000e+00 0.00000000e+00\n",
      " 0.00000000e+00 0.00000000e+00 0.00000000e+00 0.00000000e+00\n",
      " 0.00000000e+00 0.00000000e+00 0.00000000e+00 0.00000000e+00\n",
      " 0.00000000e+00 0.00000000e+00 0.00000000e+00 0.00000000e+00\n",
      " 0.00000000e+00 0.00000000e+00 0.00000000e+00 0.00000000e+00\n",
      " 0.00000000e+00 0.00000000e+00 0.00000000e+00 0.00000000e+00\n",
      " 0.00000000e+00 0.00000000e+00 0.00000000e+00 0.00000000e+00\n",
      " 0.00000000e+00 0.00000000e+00 0.00000000e+00 0.00000000e+00\n",
      " 0.00000000e+00 0.00000000e+00 0.00000000e+00 0.00000000e+00\n",
      " 0.00000000e+00 0.00000000e+00 0.00000000e+00 0.00000000e+00\n",
      " 0.00000000e+00 0.00000000e+00 0.00000000e+00 0.00000000e+00\n",
      " 0.00000000e+00 0.00000000e+00 0.00000000e+00 0.00000000e+00\n",
      " 0.00000000e+00 0.00000000e+00 0.00000000e+00 0.00000000e+00\n",
      " 0.00000000e+00 0.00000000e+00 0.00000000e+00 0.00000000e+00\n",
      " 0.00000000e+00 0.00000000e+00 0.00000000e+00 0.00000000e+00\n",
      " 0.00000000e+00 0.00000000e+00 0.00000000e+00 0.00000000e+00\n",
      " 0.00000000e+00 0.00000000e+00 0.00000000e+00 0.00000000e+00\n",
      " 0.00000000e+00 0.00000000e+00 0.00000000e+00 0.00000000e+00\n",
      " 0.00000000e+00 0.00000000e+00 0.00000000e+00 0.00000000e+00\n",
      " 0.00000000e+00 0.00000000e+00 0.00000000e+00 0.00000000e+00\n",
      " 0.00000000e+00 0.00000000e+00 0.00000000e+00 0.00000000e+00\n",
      " 0.00000000e+00 0.00000000e+00 0.00000000e+00 0.00000000e+00\n",
      " 0.00000000e+00 0.00000000e+00 0.00000000e+00 0.00000000e+00\n",
      " 0.00000000e+00 0.00000000e+00 0.00000000e+00 0.00000000e+00\n",
      " 0.00000000e+00 0.00000000e+00 0.00000000e+00 0.00000000e+00\n",
      " 0.00000000e+00 0.00000000e+00 0.00000000e+00 0.00000000e+00\n",
      " 0.00000000e+00 0.00000000e+00 0.00000000e+00 0.00000000e+00\n",
      " 0.00000000e+00 0.00000000e+00 0.00000000e+00 0.00000000e+00\n",
      " 0.00000000e+00 0.00000000e+00 0.00000000e+00 0.00000000e+00\n",
      " 0.00000000e+00 0.00000000e+00 0.00000000e+00 0.00000000e+00\n",
      " 0.00000000e+00 0.00000000e+00 0.00000000e+00 0.00000000e+00\n",
      " 0.00000000e+00 0.00000000e+00 0.00000000e+00 0.00000000e+00\n",
      " 0.00000000e+00 0.00000000e+00 0.00000000e+00 0.00000000e+00\n",
      " 0.00000000e+00 0.00000000e+00 0.00000000e+00 0.00000000e+00\n",
      " 0.00000000e+00 0.00000000e+00 0.00000000e+00 0.00000000e+00\n",
      " 0.00000000e+00 0.00000000e+00 0.00000000e+00 0.00000000e+00\n",
      " 0.00000000e+00 0.00000000e+00 0.00000000e+00 0.00000000e+00\n",
      " 0.00000000e+00 0.00000000e+00 0.00000000e+00 0.00000000e+00\n",
      " 0.00000000e+00 0.00000000e+00 0.00000000e+00 0.00000000e+00\n",
      " 0.00000000e+00 0.00000000e+00 0.00000000e+00 0.00000000e+00\n",
      " 0.00000000e+00 0.00000000e+00 0.00000000e+00 0.00000000e+00\n",
      " 0.00000000e+00 0.00000000e+00 0.00000000e+00 0.00000000e+00\n",
      " 0.00000000e+00 0.00000000e+00 0.00000000e+00 0.00000000e+00\n",
      " 0.00000000e+00 0.00000000e+00 0.00000000e+00 0.00000000e+00\n",
      " 0.00000000e+00 0.00000000e+00 0.00000000e+00 0.00000000e+00\n",
      " 0.00000000e+00 0.00000000e+00 0.00000000e+00 0.00000000e+00\n",
      " 0.00000000e+00 0.00000000e+00 0.00000000e+00 0.00000000e+00\n",
      " 0.00000000e+00 0.00000000e+00 0.00000000e+00 0.00000000e+00\n",
      " 0.00000000e+00 0.00000000e+00 0.00000000e+00 0.00000000e+00\n",
      " 0.00000000e+00 0.00000000e+00 0.00000000e+00 0.00000000e+00\n",
      " 0.00000000e+00 0.00000000e+00 0.00000000e+00 0.00000000e+00\n",
      " 0.00000000e+00 0.00000000e+00 0.00000000e+00 0.00000000e+00\n",
      " 0.00000000e+00 0.00000000e+00 0.00000000e+00 0.00000000e+00\n",
      " 0.00000000e+00 0.00000000e+00 0.00000000e+00 0.00000000e+00\n",
      " 0.00000000e+00 0.00000000e+00 0.00000000e+00 0.00000000e+00\n",
      " 0.00000000e+00 0.00000000e+00 0.00000000e+00 0.00000000e+00\n",
      " 0.00000000e+00 0.00000000e+00 0.00000000e+00 0.00000000e+00\n",
      " 0.00000000e+00 0.00000000e+00 0.00000000e+00 0.00000000e+00\n",
      " 0.00000000e+00 0.00000000e+00 0.00000000e+00 0.00000000e+00\n",
      " 0.00000000e+00 0.00000000e+00 0.00000000e+00 0.00000000e+00\n",
      " 0.00000000e+00 0.00000000e+00 0.00000000e+00 0.00000000e+00\n",
      " 0.00000000e+00 0.00000000e+00 0.00000000e+00 0.00000000e+00\n",
      " 0.00000000e+00 0.00000000e+00 0.00000000e+00 0.00000000e+00\n",
      " 0.00000000e+00 0.00000000e+00 0.00000000e+00 0.00000000e+00\n",
      " 0.00000000e+00 0.00000000e+00 0.00000000e+00 0.00000000e+00\n",
      " 0.00000000e+00 0.00000000e+00 0.00000000e+00 0.00000000e+00\n",
      " 0.00000000e+00 0.00000000e+00 0.00000000e+00 0.00000000e+00\n",
      " 0.00000000e+00 0.00000000e+00 0.00000000e+00 0.00000000e+00\n",
      " 0.00000000e+00 0.00000000e+00 0.00000000e+00 0.00000000e+00\n",
      " 0.00000000e+00 0.00000000e+00 0.00000000e+00 0.00000000e+00]\n"
     ]
    }
   ],
   "source": [
    "# These locations can be directly used to slice the corresponding part from an\n",
    "# SOAP output for e.g. plotting.\n",
    "soap_water[0, hh_loc]\n",
    "soap_water[0, ho_loc]\n",
    "print(soap_water[0, hh_loc])  #0 represents the first row of the soap_water array\n",
    "print(soap_water[0, ho_loc])"
   ]
  },
  {
   "cell_type": "code",
   "execution_count": 24,
   "id": "b9ea2e52",
   "metadata": {},
   "outputs": [
    {
     "name": "stdout",
     "output_type": "stream",
     "text": [
      "<class 'sparse._coo.core.COO'>\n",
      "<COO: shape=(3, 3696), dtype=float64, nnz=2256, fill_value=0.0>\n"
     ]
    }
   ],
   "source": [
    "soap = SOAP(\n",
    "    species=species,\n",
    "    r_cut=r_cut,\n",
    "    n_max=n_max,\n",
    "    l_max=l_max,\n",
    "    sparse=True\n",
    ")\n",
    "soap_water = soap.create(water)\n",
    "print(type(soap_water))\n",
    "print(soap_water)"
   ]
  },
  {
   "cell_type": "code",
   "execution_count": 25,
   "id": "4cea8b6d",
   "metadata": {},
   "outputs": [
    {
     "name": "stdout",
     "output_type": "stream",
     "text": [
      "<class 'numpy.ndarray'>\n",
      "[[1.33052037e-02 6.63981593e-02 1.82717076e-01 ... 0.00000000e+00\n",
      "  0.00000000e+00 0.00000000e+00]\n",
      " [2.01109441e-02 9.84941062e-02 2.53918483e-01 ... 8.41880000e-07\n",
      "  2.58585961e-06 7.94254519e-06]\n",
      " [2.01109441e-02 9.84941062e-02 2.53918483e-01 ... 8.41880000e-07\n",
      "  2.58585961e-06 7.94254519e-06]]\n"
     ]
    }
   ],
   "source": [
    "soap = SOAP(\n",
    "    species=species,\n",
    "    r_cut=r_cut,\n",
    "    n_max=n_max,\n",
    "    l_max=l_max,\n",
    "    sparse=False\n",
    ")\n",
    "soap_water = soap.create(water)\n",
    "print(type(soap_water))\n",
    "print(soap_water)"
   ]
  },
  {
   "cell_type": "code",
   "execution_count": 26,
   "id": "6e0a88db",
   "metadata": {},
   "outputs": [
    {
     "name": "stdout",
     "output_type": "stream",
     "text": [
      "Average SOAP water:  (3696,)\n",
      "[1.76867218e-02 8.70961826e-02 2.28970429e-01 ... 1.88400037e-07\n",
      " 5.78676352e-07 1.77742173e-06]\n",
      "Average SOAP methanol:  (3696,)\n",
      "[1.19428596e-02 5.90444001e-02 1.55664330e-01 ... 6.20965548e-07\n",
      " 6.41626048e-06 1.54292115e-03]\n",
      "Average SOAP peroxide:  (3696,)\n",
      "[7.98965058e-03 3.92298686e-02 1.01672818e-01 ... 4.44576435e-06\n",
      " 2.56529943e-05 3.52837266e-04]\n"
     ]
    }
   ],
   "source": [
    "average_soap = SOAP(\n",
    "    species=species,\n",
    "    r_cut=r_cut,\n",
    "    n_max=n_max,\n",
    "    l_max=l_max,\n",
    "    average=\"inner\",\n",
    "    sparse=False\n",
    ")\n",
    "\n",
    "water = molecule(\"H2O\")\n",
    "soap_water = average_soap.create(water)\n",
    "print(\"Average SOAP water: \", soap_water.shape)\n",
    "print(soap_water)\n",
    "\n",
    "methanol = molecule('CH3OH')\n",
    "soap_methanol = average_soap.create(methanol)\n",
    "print(\"Average SOAP methanol: \", soap_methanol.shape)\n",
    "print(soap_methanol)\n",
    "\n",
    "h2o2 = molecule('H2O2')\n",
    "soap_peroxide = average_soap.create(h2o2)\n",
    "print(\"Average SOAP peroxide: \", soap_peroxide.shape)\n",
    "print(soap_peroxide)"
   ]
  },
  {
   "cell_type": "code",
   "execution_count": 27,
   "id": "a5b3ffba",
   "metadata": {},
   "outputs": [
    {
     "name": "stdout",
     "output_type": "stream",
     "text": [
      "Distance matrix: water - methanol - peroxide: \n",
      "[[  0.         155.46884029  70.95999684]\n",
      " [155.46884029   0.         184.65414426]\n",
      " [ 70.95999684 184.65414426   0.        ]]\n"
     ]
    }
   ],
   "source": [
    "from scipy.spatial.distance import pdist, squareform\n",
    "import numpy as np\n",
    "\n",
    "molecules = np.vstack([soap_water, soap_methanol, soap_peroxide])\n",
    "distance = squareform(pdist(molecules))  #squareform converts pdist(molecules) into a square or symmetric matrix\n",
    "print(\"Distance matrix: water - methanol - peroxide: \")\n",
    "print(distance)"
   ]
  },
  {
   "cell_type": "code",
   "execution_count": 28,
   "id": "5ee5bdf2",
   "metadata": {},
   "outputs": [
    {
     "data": {
      "text/plain": [
       "array([155.46884029,  70.95999684, 184.65414426])"
      ]
     },
     "execution_count": 28,
     "metadata": {},
     "output_type": "execute_result"
    }
   ],
   "source": [
    "pdist(molecules)\n",
    "#It seems that the local environments of water and hydrogen peroxide are more similar to each other. "
   ]
  },
  {
   "cell_type": "code",
   "execution_count": 29,
   "id": "bee60f35",
   "metadata": {},
   "outputs": [
    {
     "data": {
      "text/plain": [
       "array([[1.76867218e-02, 8.70961826e-02, 2.28970429e-01, ...,\n",
       "        1.88400037e-07, 5.78676352e-07, 1.77742173e-06],\n",
       "       [1.19428596e-02, 5.90444001e-02, 1.55664330e-01, ...,\n",
       "        6.20965548e-07, 6.41626048e-06, 1.54292115e-03],\n",
       "       [7.98965058e-03, 3.92298686e-02, 1.01672818e-01, ...,\n",
       "        4.44576435e-06, 2.56529943e-05, 3.52837266e-04]])"
      ]
     },
     "execution_count": 29,
     "metadata": {},
     "output_type": "execute_result"
    }
   ],
   "source": [
    "molecules"
   ]
  },
  {
   "cell_type": "code",
   "execution_count": 30,
   "id": "2b544e6a",
   "metadata": {},
   "outputs": [
    {
     "name": "stdout",
     "output_type": "stream",
     "text": [
      "(3, 3696)\n"
     ]
    }
   ],
   "source": [
    "print(molecules.shape)"
   ]
  },
  {
   "cell_type": "code",
   "execution_count": 31,
   "id": "d97ed37b",
   "metadata": {},
   "outputs": [
    {
     "data": {
      "text/plain": [
       "array([155.46884029,  70.95999684, 184.65414426])"
      ]
     },
     "execution_count": 31,
     "metadata": {},
     "output_type": "execute_result"
    }
   ],
   "source": [
    "pdist(molecules)"
   ]
  },
  {
   "cell_type": "markdown",
   "id": "499524c8",
   "metadata": {},
   "source": [
    "It seems that the local environments of water and hydrogen peroxide are more similar to each other. "
   ]
  },
  {
   "cell_type": "code",
   "execution_count": 32,
   "id": "7132a610",
   "metadata": {},
   "outputs": [
    {
     "data": {
      "text/plain": [
       "array([[0, 1, 2],\n",
       "       [1, 0, 3],\n",
       "       [2, 3, 0]])"
      ]
     },
     "execution_count": 32,
     "metadata": {},
     "output_type": "execute_result"
    }
   ],
   "source": [
    "squareform([1,2,3])"
   ]
  },
  {
   "cell_type": "code",
   "execution_count": 33,
   "id": "358198cc",
   "metadata": {},
   "outputs": [],
   "source": [
    "#Below code for practice"
   ]
  },
  {
   "cell_type": "code",
   "execution_count": 34,
   "id": "c5208d81",
   "metadata": {},
   "outputs": [],
   "source": [
    "points = np.array([[0, 0], [1, 1], [2, 2], [3, 3]])"
   ]
  },
  {
   "cell_type": "code",
   "execution_count": 41,
   "id": "1331e2df",
   "metadata": {},
   "outputs": [
    {
     "data": {
      "text/plain": [
       "array([[0, 0],\n",
       "       [1, 1],\n",
       "       [2, 2],\n",
       "       [3, 3]])"
      ]
     },
     "execution_count": 41,
     "metadata": {},
     "output_type": "execute_result"
    }
   ],
   "source": [
    "points"
   ]
  },
  {
   "cell_type": "code",
   "execution_count": 40,
   "id": "858b5f3a",
   "metadata": {},
   "outputs": [
    {
     "data": {
      "text/plain": [
       "(4, 2)"
      ]
     },
     "execution_count": 40,
     "metadata": {},
     "output_type": "execute_result"
    }
   ],
   "source": [
    "points.shape"
   ]
  },
  {
   "cell_type": "code",
   "execution_count": 35,
   "id": "94d0a920",
   "metadata": {},
   "outputs": [],
   "source": [
    "distances = pdist(points)\n",
    "#pdist calculates pairwise distances between the datapoints\n",
    "#pairwise distances are\n",
    "#[0, 0], [1, 1]\n",
    "#[0, 0], [2, 2]\n",
    "#[0, 0], [3, 3]\n",
    "#[1, 1], [2, 2]\n",
    "#[1, 1], [3, 3]\n",
    "#[2, 2], [3, 3]\n",
    "#we have 6 pairwise distances to calculate"
   ]
  },
  {
   "cell_type": "code",
   "execution_count": 36,
   "id": "8dd0f6b1",
   "metadata": {},
   "outputs": [
    {
     "data": {
      "text/plain": [
       "array([1.41421356, 2.82842712, 4.24264069, 1.41421356, 2.82842712,\n",
       "       1.41421356])"
      ]
     },
     "execution_count": 36,
     "metadata": {},
     "output_type": "execute_result"
    }
   ],
   "source": [
    "distances"
   ]
  },
  {
   "cell_type": "code",
   "execution_count": 37,
   "id": "9d4a029c",
   "metadata": {},
   "outputs": [
    {
     "data": {
      "text/plain": [
       "array([[0.        , 1.41421356, 2.82842712, 4.24264069],\n",
       "       [1.41421356, 0.        , 1.41421356, 2.82842712],\n",
       "       [2.82842712, 1.41421356, 0.        , 1.41421356],\n",
       "       [4.24264069, 2.82842712, 1.41421356, 0.        ]])"
      ]
     },
     "execution_count": 37,
     "metadata": {},
     "output_type": "execute_result"
    }
   ],
   "source": [
    "squareform(distances)"
   ]
  },
  {
   "cell_type": "code",
   "execution_count": null,
   "id": "ac928aa5",
   "metadata": {},
   "outputs": [],
   "source": []
  }
 ],
 "metadata": {
  "kernelspec": {
   "display_name": "Python 3 (ipykernel)",
   "language": "python",
   "name": "python3"
  },
  "language_info": {
   "codemirror_mode": {
    "name": "ipython",
    "version": 3
   },
   "file_extension": ".py",
   "mimetype": "text/x-python",
   "name": "python",
   "nbconvert_exporter": "python",
   "pygments_lexer": "ipython3",
   "version": "3.11.3"
  }
 },
 "nbformat": 4,
 "nbformat_minor": 5
}
