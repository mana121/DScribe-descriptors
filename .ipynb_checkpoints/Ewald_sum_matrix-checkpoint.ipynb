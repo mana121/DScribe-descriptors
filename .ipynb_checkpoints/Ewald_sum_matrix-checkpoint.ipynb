{
 "cells": [
  {
   "cell_type": "code",
   "execution_count": 1,
   "id": "98eb5c13",
   "metadata": {},
   "outputs": [],
   "source": [
    "from dscribe.descriptors import EwaldSumMatrix\n",
    "import scipy\n",
    "import math\n",
    "\n",
    "# Setting up the Ewald sum matrix descriptor\n",
    "esm = EwaldSumMatrix(n_atoms_max=6)"
   ]
  },
  {
   "cell_type": "code",
   "execution_count": 2,
   "id": "61d1bd46",
   "metadata": {},
   "outputs": [
    {
     "name": "stdout",
     "output_type": "stream",
     "text": [
      "36\n",
      "[-117.46694382  -36.13183445    0.            0.            0.\n",
      "    0.          -36.13183445  -49.1816616     0.            0.\n",
      "    0.            0.            0.            0.            0.\n",
      "    0.            0.            0.            0.            0.\n",
      "    0.            0.            0.            0.            0.\n",
      "    0.            0.            0.            0.            0.\n",
      "    0.            0.            0.            0.            0.\n",
      "    0.        ]\n",
      "(36,)\n",
      "[[-117.46694382  -36.13183445    0.            0.            0.\n",
      "     0.        ]\n",
      " [ -36.13183445  -49.1816616     0.            0.            0.\n",
      "     0.        ]\n",
      " [   0.            0.            0.            0.            0.\n",
      "     0.        ]\n",
      " [   0.            0.            0.            0.            0.\n",
      "     0.        ]\n",
      " [   0.            0.            0.            0.            0.\n",
      "     0.        ]\n",
      " [   0.            0.            0.            0.            0.\n",
      "     0.        ]]\n",
      "(6, 6)\n"
     ]
    }
   ],
   "source": [
    "# Creation\n",
    "from ase.build import bulk\n",
    "\n",
    "# NaCl crystal created as an ASE.Atoms\n",
    "nacl = bulk(\"NaCl\", \"rocksalt\", a=5.64)\n",
    "#https://wiki.fysik.dtu.dk/ase/ase/build/build.html\n",
    "print(esm.get_number_of_features())\n",
    "\n",
    "# Create output for the system\n",
    "nacl_ewald = esm.create(nacl)\n",
    "print(nacl_ewald)\n",
    "print(nacl_ewald.shape)\n",
    "print(esm.unflatten(nacl_ewald))\n",
    "print(esm.unflatten(nacl_ewald).shape)"
   ]
  },
  {
   "cell_type": "code",
   "execution_count": 3,
   "id": "a0b434cd",
   "metadata": {},
   "outputs": [
    {
     "name": "stdout",
     "output_type": "stream",
     "text": [
      "['Na', 'Cl']\n"
     ]
    }
   ],
   "source": [
    "print(nacl.get_chemical_symbols())"
   ]
  },
  {
   "cell_type": "code",
   "execution_count": 96,
   "id": "ac10712b",
   "metadata": {},
   "outputs": [],
   "source": [
    "# Create output for multiple system\n",
    "al = bulk(\"Al\", \"fcc\", a=4.046)\n",
    "fe = bulk(\"Fe\", \"bcc\", a=2.856)\n",
    "samples = [nacl, al, fe]\n",
    "ewald_matrices = esm.create(samples)            # Serial\n",
    "ewald_matrices = esm.create(samples, n_jobs=2)  # Parallel"
   ]
  },
  {
   "cell_type": "code",
   "execution_count": 97,
   "id": "68e42918",
   "metadata": {},
   "outputs": [
    {
     "name": "stdout",
     "output_type": "stream",
     "text": [
      "[[-117.46694382  -36.13183445    0.            0.            0.\n",
      "     0.          -36.13183445  -49.1816616     0.            0.\n",
      "     0.            0.            0.            0.            0.\n",
      "     0.            0.            0.            0.            0.\n",
      "     0.            0.            0.            0.            0.\n",
      "     0.            0.            0.            0.            0.\n",
      "     0.            0.            0.            0.            0.\n",
      "     0.        ]\n",
      " [ -95.75456225    0.            0.            0.            0.\n",
      "     0.            0.            0.            0.            0.\n",
      "     0.            0.            0.            0.            0.\n",
      "     0.            0.            0.            0.            0.\n",
      "     0.            0.            0.            0.            0.\n",
      "     0.            0.            0.            0.            0.\n",
      "     0.            0.            0.            0.            0.\n",
      "     0.        ]\n",
      " [-430.69601326    0.            0.            0.            0.\n",
      "     0.            0.            0.            0.            0.\n",
      "     0.            0.            0.            0.            0.\n",
      "     0.            0.            0.            0.            0.\n",
      "     0.            0.            0.            0.            0.\n",
      "     0.            0.            0.            0.            0.\n",
      "     0.            0.            0.            0.            0.\n",
      "     0.        ]]\n"
     ]
    }
   ],
   "source": [
    "print(ewald_matrices)"
   ]
  },
  {
   "cell_type": "code",
   "execution_count": 98,
   "id": "e76351be",
   "metadata": {},
   "outputs": [],
   "source": [
    "ewald_1 = esm.create(nacl, accuracy=1e-3)\n",
    "ewald_2 = esm.create(nacl, accuracy=1e-5)"
   ]
  },
  {
   "cell_type": "code",
   "execution_count": 99,
   "id": "94a09ea6",
   "metadata": {},
   "outputs": [
    {
     "name": "stdout",
     "output_type": "stream",
     "text": [
      "[-117.48734836  -36.18682342    0.            0.            0.\n",
      "    0.          -36.18682342  -49.19020468    0.            0.\n",
      "    0.            0.            0.            0.            0.\n",
      "    0.            0.            0.            0.            0.\n",
      "    0.            0.            0.            0.            0.\n",
      "    0.            0.            0.            0.            0.\n",
      "    0.            0.            0.            0.            0.\n",
      "    0.        ]\n"
     ]
    }
   ],
   "source": [
    "print(ewald_1)"
   ]
  },
  {
   "cell_type": "code",
   "execution_count": 100,
   "id": "7c1374d1",
   "metadata": {},
   "outputs": [
    {
     "name": "stdout",
     "output_type": "stream",
     "text": [
      "[-117.46694382  -36.13183445    0.            0.            0.\n",
      "    0.          -36.13183445  -49.1816616     0.            0.\n",
      "    0.            0.            0.            0.            0.\n",
      "    0.            0.            0.            0.            0.\n",
      "    0.            0.            0.            0.            0.\n",
      "    0.            0.            0.            0.            0.\n",
      "    0.            0.            0.            0.            0.\n",
      "    0.        ]\n"
     ]
    }
   ],
   "source": [
    "print(ewald_2)"
   ]
  },
  {
   "cell_type": "code",
   "execution_count": 101,
   "id": "b0d80b3d",
   "metadata": {},
   "outputs": [],
   "source": [
    "ewald_3 = esm.create(nacl, r_cut=10, g_cut=10)"
   ]
  },
  {
   "cell_type": "code",
   "execution_count": 102,
   "id": "af1ca1c1",
   "metadata": {},
   "outputs": [
    {
     "name": "stdout",
     "output_type": "stream",
     "text": [
      "[-117.46676768  -36.13121444    0.            0.            0.\n",
      "    0.          -36.13121444  -49.18158785    0.            0.\n",
      "    0.            0.            0.            0.            0.\n",
      "    0.            0.            0.            0.            0.\n",
      "    0.            0.            0.            0.            0.\n",
      "    0.            0.            0.            0.            0.\n",
      "    0.            0.            0.            0.            0.\n",
      "    0.        ]\n"
     ]
    }
   ],
   "source": [
    "print(ewald_3)"
   ]
  },
  {
   "cell_type": "code",
   "execution_count": 103,
   "id": "f210434b",
   "metadata": {},
   "outputs": [
    {
     "name": "stdout",
     "output_type": "stream",
     "text": [
      "[-95.75403986   0.           0.           0.           0.\n",
      "   0.           0.           0.           0.        ]\n",
      "[[-95.75403986   0.           0.        ]\n",
      " [  0.           0.           0.        ]\n",
      " [  0.           0.           0.        ]]\n"
     ]
    }
   ],
   "source": [
    "# Ewald summation parameters\n",
    "r_cut = 40\n",
    "g_cut = 40\n",
    "a = 3\n",
    "\n",
    "# Calculate Ewald sum matrix with DScribe\n",
    "ems = EwaldSumMatrix(n_atoms_max=3, permutation=\"none\")\n",
    "ems_out = ems.create(al, a=a, r_cut=r_cut, g_cut=g_cut)\n",
    "print(ems_out)\n",
    "ems_out = ems.unflatten(ems_out)\n",
    "print(ems_out)"
   ]
  },
  {
   "cell_type": "code",
   "execution_count": 104,
   "id": "566ab864",
   "metadata": {},
   "outputs": [
    {
     "name": "stdout",
     "output_type": "stream",
     "text": [
      "-95.75403985729605\n"
     ]
    }
   ],
   "source": [
    "# Calculate the total electrostatic energy of the crystal\n",
    "total_energy = ems_out[0, 0] + ems_out[1, 1] + ems_out[0, 1]\n",
    "print(total_energy)"
   ]
  },
  {
   "cell_type": "code",
   "execution_count": 105,
   "id": "74c2b8d0",
   "metadata": {},
   "outputs": [
    {
     "name": "stdout",
     "output_type": "stream",
     "text": [
      "-1378.8242270721046\n"
     ]
    }
   ],
   "source": [
    "# Converts unit of q*q/r into eV\n",
    "conversion = 1e10 * scipy.constants.e / (4 * math.pi * scipy.constants.epsilon_0)\n",
    "total_energy *= conversion\n",
    "print(total_energy)"
   ]
  },
  {
   "cell_type": "code",
   "execution_count": 5,
   "id": "ccddc34d",
   "metadata": {},
   "outputs": [
    {
     "name": "stdout",
     "output_type": "stream",
     "text": [
      "with pbc [-10.24977839  53.09668404   0.           0.           0.\n",
      "   0.          53.09668404  -4.29142971   0.           0.\n",
      "   0.           0.           0.           0.           0.\n",
      "   0.           0.           0.           0.           0.\n",
      "   0.           0.           0.           0.           0.\n",
      "   0.           0.           0.           0.           0.\n",
      "   0.           0.           0.           0.           0.\n",
      "   0.        ]\n"
     ]
    }
   ],
   "source": [
    "nacl.set_pbc([True, True, True])\n",
    "nacl.set_cell([[40.0, 0.0, 0.0],\n",
    "    [0.0, 40.0, 0.0],\n",
    "    [0.0, 0.0, 40.0],\n",
    "    ])\n",
    "\n",
    "nacl_ewald = esm.create(nacl)\n",
    "\n",
    "print(\"with pbc\", nacl_ewald)"
   ]
  },
  {
   "cell_type": "code",
   "execution_count": null,
   "id": "e4ab18d4",
   "metadata": {},
   "outputs": [],
   "source": []
  }
 ],
 "metadata": {
  "kernelspec": {
   "display_name": "Python 3 (ipykernel)",
   "language": "python",
   "name": "python3"
  },
  "language_info": {
   "codemirror_mode": {
    "name": "ipython",
    "version": 3
   },
   "file_extension": ".py",
   "mimetype": "text/x-python",
   "name": "python",
   "nbconvert_exporter": "python",
   "pygments_lexer": "ipython3",
   "version": "3.11.3"
  }
 },
 "nbformat": 4,
 "nbformat_minor": 5
}
